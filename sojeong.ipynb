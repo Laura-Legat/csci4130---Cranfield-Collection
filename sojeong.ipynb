version https://git-lfs.github.com/spec/v1
oid sha256:96ee022015ca0a3a33878548652b128899fa2327108c640a6e1ff97d650317d1
size 430879
